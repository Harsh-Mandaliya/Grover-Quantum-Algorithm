{
 "cells": [
  {
   "cell_type": "markdown",
   "id": "35ba3acf",
   "metadata": {},
   "source": [
    "# Grover's Algorithm Implementation using Qiskit"
   ]
  },
  {
   "cell_type": "code",
   "execution_count": 1,
   "id": "5a8c7978",
   "metadata": {},
   "outputs": [
    {
     "ename": "ImportError",
     "evalue": "cannot import name 'Aer' from 'qiskit' (C:\\Users\\Administrator\\AppData\\Roaming\\Python\\Python313\\site-packages\\qiskit\\__init__.py)",
     "output_type": "error",
     "traceback": [
      "\u001b[31m---------------------------------------------------------------------------\u001b[39m",
      "\u001b[31mImportError\u001b[39m                               Traceback (most recent call last)",
      "\u001b[36mCell\u001b[39m\u001b[36m \u001b[39m\u001b[32mIn[1]\u001b[39m\u001b[32m, line 1\u001b[39m\n\u001b[32m----> \u001b[39m\u001b[32m1\u001b[39m \u001b[38;5;28;01mfrom\u001b[39;00m\u001b[38;5;250m \u001b[39m\u001b[34;01mqiskit\u001b[39;00m\u001b[38;5;250m \u001b[39m\u001b[38;5;28;01mimport\u001b[39;00m QuantumCircuit, Aer, execute\n\u001b[32m      2\u001b[39m \u001b[38;5;28;01mfrom\u001b[39;00m\u001b[38;5;250m \u001b[39m\u001b[34;01mqiskit\u001b[39;00m\u001b[34;01m.\u001b[39;00m\u001b[34;01mvisualization\u001b[39;00m\u001b[38;5;250m \u001b[39m\u001b[38;5;28;01mimport\u001b[39;00m plot_histogram\n\u001b[32m      3\u001b[39m \u001b[38;5;28;01mimport\u001b[39;00m\u001b[38;5;250m \u001b[39m\u001b[34;01mmatplotlib\u001b[39;00m\u001b[34;01m.\u001b[39;00m\u001b[34;01mpyplot\u001b[39;00m\u001b[38;5;250m \u001b[39m\u001b[38;5;28;01mas\u001b[39;00m\u001b[38;5;250m \u001b[39m\u001b[34;01mplt\u001b[39;00m\n",
      "\u001b[31mImportError\u001b[39m: cannot import name 'Aer' from 'qiskit' (C:\\Users\\Administrator\\AppData\\Roaming\\Python\\Python313\\site-packages\\qiskit\\__init__.py)"
     ]
    }
   ],
   "source": [
    "from qiskit import QuantumCircuit, Aer, execute\n",
    "from qiskit.visualization import plot_histogram\n",
    "import matplotlib.pyplot as plt\n"
   ]
  },
  {
   "cell_type": "code",
   "execution_count": 2,
   "id": "9fe68516",
   "metadata": {},
   "outputs": [],
   "source": [
    "\n",
    "# Step 1 - Create the Oracle (mark the target state)\n",
    "def grover_oracle(n, target):\n",
    "    qc = QuantumCircuit(n)\n",
    "    target_bin = format(target, f'0{n}b')\n",
    "    for qubit, bit in enumerate(target_bin):\n",
    "        if bit == '0':\n",
    "            qc.x(qubit)\n",
    "    qc.h(range(n))\n",
    "    qc.mct(list(range(n-1)), n-1)  # multi-controlled Toffoli (oracle mark)\n",
    "    qc.h(range(n))\n",
    "    for qubit, bit in enumerate(target_bin):\n",
    "        if bit == '0':\n",
    "            qc.x(qubit)\n",
    "    return qc\n"
   ]
  },
  {
   "cell_type": "code",
   "execution_count": 3,
   "id": "301cff04",
   "metadata": {},
   "outputs": [],
   "source": [
    "\n",
    "# Step 2️ - Create the Diffuser (inversion about mean)\n",
    "def diffuser(n):\n",
    "    qc = QuantumCircuit(n)\n",
    "    qc.h(range(n))\n",
    "    qc.x(range(n))\n",
    "    qc.h(n-1)\n",
    "    qc.mct(list(range(n-1)), n-1)\n",
    "    qc.h(n-1)\n",
    "    qc.x(range(n))\n",
    "    qc.h(range(n))\n",
    "    return qc\n",
    "\n"
   ]
  },
  {
   "cell_type": "code",
   "execution_count": 4,
   "id": "204de247",
   "metadata": {},
   "outputs": [
    {
     "ename": "AttributeError",
     "evalue": "'QuantumCircuit' object has no attribute 'mct'",
     "output_type": "error",
     "traceback": [
      "\u001b[31m---------------------------------------------------------------------------\u001b[39m",
      "\u001b[31mAttributeError\u001b[39m                            Traceback (most recent call last)",
      "\u001b[36mCell\u001b[39m\u001b[36m \u001b[39m\u001b[32mIn[4]\u001b[39m\u001b[32m, line 8\u001b[39m\n\u001b[32m      5\u001b[39m grover = QuantumCircuit(n, n)\n\u001b[32m      6\u001b[39m grover.h(\u001b[38;5;28mrange\u001b[39m(n))  \u001b[38;5;66;03m# superposition\u001b[39;00m\n\u001b[32m----> \u001b[39m\u001b[32m8\u001b[39m oracle = \u001b[43mgrover_oracle\u001b[49m\u001b[43m(\u001b[49m\u001b[43mn\u001b[49m\u001b[43m,\u001b[49m\u001b[43m \u001b[49m\u001b[43mtarget\u001b[49m\u001b[43m)\u001b[49m\n\u001b[32m      9\u001b[39m diff = diffuser(n)\n\u001b[32m     11\u001b[39m \u001b[38;5;66;03m# Grover iterations\u001b[39;00m\n",
      "\u001b[36mCell\u001b[39m\u001b[36m \u001b[39m\u001b[32mIn[2]\u001b[39m\u001b[32m, line 9\u001b[39m, in \u001b[36mgrover_oracle\u001b[39m\u001b[34m(n, target)\u001b[39m\n\u001b[32m      7\u001b[39m         qc.x(qubit)\n\u001b[32m      8\u001b[39m qc.h(\u001b[38;5;28mrange\u001b[39m(n))\n\u001b[32m----> \u001b[39m\u001b[32m9\u001b[39m \u001b[43mqc\u001b[49m\u001b[43m.\u001b[49m\u001b[43mmct\u001b[49m(\u001b[38;5;28mlist\u001b[39m(\u001b[38;5;28mrange\u001b[39m(n-\u001b[32m1\u001b[39m)), n-\u001b[32m1\u001b[39m)  \u001b[38;5;66;03m# multi-controlled Toffoli (oracle mark)\u001b[39;00m\n\u001b[32m     10\u001b[39m qc.h(\u001b[38;5;28mrange\u001b[39m(n))\n\u001b[32m     11\u001b[39m \u001b[38;5;28;01mfor\u001b[39;00m qubit, bit \u001b[38;5;129;01min\u001b[39;00m \u001b[38;5;28menumerate\u001b[39m(target_bin):\n",
      "\u001b[31mAttributeError\u001b[39m: 'QuantumCircuit' object has no attribute 'mct'"
     ]
    }
   ],
   "source": [
    "# Step 3️ - Combine Oracle + Diffuser\n",
    "n = 3  # number of qubits\n",
    "target = 5  # number we want to search (binary 101)\n",
    "\n",
    "grover = QuantumCircuit(n, n)\n",
    "grover.h(range(n))  # superposition\n",
    "\n",
    "oracle = grover_oracle(n, target)\n",
    "diff = diffuser(n)\n",
    "\n",
    "# Grover iterations\n",
    "iterations = 1  # For small n, 1 iteration is enough\n",
    "for _ in range(iterations):\n",
    "    grover.append(oracle, range(n))\n",
    "    grover.append(diff, range(n))\n",
    "\n"
   ]
  },
  {
   "cell_type": "code",
   "execution_count": 5,
   "id": "da671f9d",
   "metadata": {},
   "outputs": [
    {
     "data": {
      "text/plain": [
       "<qiskit.circuit.instructionset.InstructionSet at 0x1ffee977d90>"
      ]
     },
     "execution_count": 5,
     "metadata": {},
     "output_type": "execute_result"
    }
   ],
   "source": [
    "# Step 4️ - Measure\n",
    "grover.measure(range(n), range(n))\n",
    "\n"
   ]
  },
  {
   "cell_type": "code",
   "execution_count": 6,
   "id": "bbb5d7cd",
   "metadata": {},
   "outputs": [
    {
     "ename": "NameError",
     "evalue": "name 'Aer' is not defined",
     "output_type": "error",
     "traceback": [
      "\u001b[31m---------------------------------------------------------------------------\u001b[39m",
      "\u001b[31mNameError\u001b[39m                                 Traceback (most recent call last)",
      "\u001b[36mCell\u001b[39m\u001b[36m \u001b[39m\u001b[32mIn[6]\u001b[39m\u001b[32m, line 2\u001b[39m\n\u001b[32m      1\u001b[39m \u001b[38;5;66;03m# Step 5️ - Run the circuit\u001b[39;00m\n\u001b[32m----> \u001b[39m\u001b[32m2\u001b[39m simulator = \u001b[43mAer\u001b[49m.get_backend(\u001b[33m'\u001b[39m\u001b[33mqasm_simulator\u001b[39m\u001b[33m'\u001b[39m)\n\u001b[32m      3\u001b[39m result = execute(grover, simulator, shots=\u001b[32m1024\u001b[39m).result()\n\u001b[32m      4\u001b[39m counts = result.get_counts()\n",
      "\u001b[31mNameError\u001b[39m: name 'Aer' is not defined"
     ]
    }
   ],
   "source": [
    "# Step 5️ - Run the circuit\n",
    "simulator = Aer.get_backend('qasm_simulator')\n",
    "result = execute(grover, simulator, shots=1024).result()\n",
    "counts = result.get_counts()\n",
    "\n",
    "\n"
   ]
  },
  {
   "cell_type": "code",
   "execution_count": 7,
   "id": "dd5a565f",
   "metadata": {},
   "outputs": [
    {
     "ename": "NameError",
     "evalue": "name 'counts' is not defined",
     "output_type": "error",
     "traceback": [
      "\u001b[31m---------------------------------------------------------------------------\u001b[39m",
      "\u001b[31mNameError\u001b[39m                                 Traceback (most recent call last)",
      "\u001b[36mCell\u001b[39m\u001b[36m \u001b[39m\u001b[32mIn[7]\u001b[39m\u001b[32m, line 2\u001b[39m\n\u001b[32m      1\u001b[39m \u001b[38;5;66;03m# Step 6️ - Visualize results\u001b[39;00m\n\u001b[32m----> \u001b[39m\u001b[32m2\u001b[39m \u001b[38;5;28mprint\u001b[39m(\u001b[33m\"\u001b[39m\u001b[33mMeasurement Results:\u001b[39m\u001b[33m\"\u001b[39m, \u001b[43mcounts\u001b[49m)\n\u001b[32m      3\u001b[39m plot_histogram(counts)\n\u001b[32m      4\u001b[39m plt.show()\n",
      "\u001b[31mNameError\u001b[39m: name 'counts' is not defined"
     ]
    }
   ],
   "source": [
    "# Step 6️ - Visualize results\n",
    "print(\"Measurement Results:\", counts)\n",
    "plot_histogram(counts)\n",
    "plt.show()"
   ]
  },
  {
   "cell_type": "code",
   "execution_count": null,
   "id": "5e95e9a9",
   "metadata": {},
   "outputs": [],
   "source": []
  }
 ],
 "metadata": {
  "kernelspec": {
   "display_name": "base",
   "language": "python",
   "name": "python3"
  },
  "language_info": {
   "codemirror_mode": {
    "name": "ipython",
    "version": 3
   },
   "file_extension": ".py",
   "mimetype": "text/x-python",
   "name": "python",
   "nbconvert_exporter": "python",
   "pygments_lexer": "ipython3",
   "version": "3.13.5"
  }
 },
 "nbformat": 4,
 "nbformat_minor": 5
}
